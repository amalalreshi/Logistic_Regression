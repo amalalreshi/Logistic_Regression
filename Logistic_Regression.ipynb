{
  "cells": [
    {
      "cell_type": "markdown",
      "id": "c768fe8d",
      "metadata": {
        "id": "c768fe8d"
      },
      "source": [
        "#  Supervised Machine Learning Algorithm\n",
        "## Logistic Regression\n"
      ]
    },
    {
      "cell_type": "markdown",
      "id": "827228bd",
      "metadata": {
        "id": "827228bd"
      },
      "source": [
        "### 1- Import all necessary libraries"
      ]
    },
    {
      "cell_type": "code",
      "execution_count": 1,
      "id": "65941acd",
      "metadata": {
        "id": "65941acd"
      },
      "outputs": [],
      "source": [
        "import pandas as pd\n",
        "import csv\n",
        "import matplotlib.pyplot as plt\n",
        "from sklearn.model_selection import train_test_split\n",
        "from sklearn.preprocessing import LabelEncoder\n",
        "from sklearn.preprocessing import StandardScaler\n",
        "from sklearn.linear_model import LogisticRegression\n",
        "from sklearn.svm import SVC\n",
        "from sklearn.neural_network import MLPClassifier\n",
        "from sklearn.metrics import accuracy_score\n",
        "from sklearn.metrics import precision_score\n",
        "from sklearn.metrics import recall_score\n",
        "from sklearn.metrics import f1_score"
      ]
    },
    {
      "cell_type": "markdown",
      "id": "f3faa561",
      "metadata": {
        "id": "f3faa561"
      },
      "source": [
        "### 2- Uplode dataset by panda"
      ]
    },
    {
      "cell_type": "code",
      "execution_count": 3,
      "id": "5304ead0",
      "metadata": {
        "id": "5304ead0"
      },
      "outputs": [],
      "source": [
        "\n",
        "FILE_NAME = \"/content/sample_data/wdbc.data\"\n",
        "# use panda is faster than numpy\n",
        "dataframe = pd.read_csv(FILE_NAME, header=None, delimiter=\",\" , dtype=object)\n"
      ]
    },
    {
      "cell_type": "markdown",
      "id": "50875fec",
      "metadata": {
        "id": "50875fec"
      },
      "source": [
        "### 3- Data  Preprocessing\n",
        "- drop the ID coulmn because is not important feature in this calssifaction\n",
        "- convert string to number , in Machine Learning is require the class labels are encoded as integer\n",
        "- Standardization :  transform the values of a feature to have a mean of 0 and a standard deviation of 1"
      ]
    },
    {
      "cell_type": "code",
      "execution_count": 4,
      "id": "f393d673",
      "metadata": {
        "colab": {
          "base_uri": "https://localhost:8080/"
        },
        "id": "f393d673",
        "outputId": "0f74984c-0ca2-46ef-90bc-acb2954f73bc"
      },
      "outputs": [
        {
          "output_type": "stream",
          "name": "stdout",
          "text": [
            "Encoded first column labels are:\n",
            " [1 1 1 1 1 1 1 1 1 1 1 1 1 1 1 1 1 1 1 0 0 0 1 1 1 1 1 1 1 1 1 1 1 1 1 1 1\n",
            " 0 1 1 1 1 1 1 1 1 0 1 0 0 0 0 0 1 1 0 1 1 0 0 0 0 1 0 1 1 0 0 0 0 1 0 1 1\n",
            " 0 1 0 1 1 0 0 0 1 1 0 1 1 1 0 0 0 1 0 0 1 1 0 0 0 1 1 0 0 0 0 1 0 0 1 0 0\n",
            " 0 0 0 0 0 0 1 1 1 0 1 1 0 0 0 1 1 0 1 0 1 1 0 1 1 0 0 1 0 0 1 0 0 0 0 1 0\n",
            " 0 0 0 0 0 0 0 0 1 0 0 0 0 1 1 0 1 0 0 1 1 0 0 1 1 0 0 0 0 1 0 0 1 1 1 0 1\n",
            " 0 1 0 0 0 1 0 0 1 1 0 1 1 1 1 0 1 1 1 0 1 0 1 0 0 1 0 1 1 1 1 0 0 1 1 0 0\n",
            " 0 1 0 0 0 0 0 1 1 0 0 1 0 0 1 1 0 1 0 0 0 0 1 0 0 0 0 0 1 0 1 1 1 1 1 1 1\n",
            " 1 1 1 1 1 1 1 0 0 0 0 0 0 1 0 1 0 0 1 0 0 1 0 1 1 0 0 0 0 0 0 0 0 0 0 0 0\n",
            " 0 1 0 0 1 0 1 0 0 0 0 0 0 0 0 0 0 0 0 0 0 1 0 0 0 1 0 1 0 0 0 0 1 1 1 0 0\n",
            " 0 0 1 0 1 0 1 0 0 0 1 0 0 0 0 0 0 0 1 1 1 0 0 0 0 0 0 0 0 0 0 0 1 1 0 1 1\n",
            " 1 0 1 1 0 0 0 0 0 1 0 0 0 0 0 1 0 0 0 1 0 0 1 1 0 0 0 0 0 0 1 0 0 0 0 0 0\n",
            " 0 1 0 0 0 0 0 1 0 0 1 0 0 0 0 0 0 0 0 0 0 0 0 1 0 1 1 0 1 0 0 0 0 0 1 0 0\n",
            " 1 0 1 0 0 1 0 1 0 0 0 0 0 0 0 0 1 1 0 0 0 0 0 0 1 0 0 0 0 0 0 0 0 0 0 1 0\n",
            " 0 0 0 0 0 0 1 0 1 0 0 1 0 0 0 0 0 1 1 0 1 0 1 0 0 0 0 0 1 0 0 1 0 1 0 1 1\n",
            " 0 0 0 1 0 0 0 0 0 0 0 0 0 0 0 1 0 1 1 0 0 0 0 0 0 0 0 0 0 0 0 0 0 0 0 0 0\n",
            " 0 0 0 0 0 0 0 1 1 1 1 1 1 0]\n"
          ]
        }
      ],
      "source": [
        "#Data Preprossing\n",
        "\n",
        "#drop the ID coulmn\n",
        "dataframe.drop(columns=[0], inplace=True)\n",
        "\n",
        "#convert class label to integer M = 1 malignant , B = 0 benign\n",
        "encoder = LabelEncoder()\n",
        "\n",
        "label_encoded = encoder.fit_transform(dataframe.iloc[:,0].values)\n",
        "\n",
        "print(\"Encoded first column labels are:\\n\", (label_encoded))\n",
        "\n"
      ]
    },
    {
      "cell_type": "code",
      "execution_count": 5,
      "id": "f07b88a1",
      "metadata": {
        "colab": {
          "base_uri": "https://localhost:8080/"
        },
        "id": "f07b88a1",
        "outputId": "fb5aaf06-6dee-4f40-877d-62ff58a55c8a"
      },
      "outputs": [
        {
          "output_type": "stream",
          "name": "stdout",
          "text": [
            "Training data size: X = 398 , y= 398  \n",
            "Testing data size: X = 114 , y= 114  \n",
            " Validation data size: X = 57 , y= 57  \n"
          ]
        }
      ],
      "source": [
        "#split data into features and class label\n",
        "n_samples , n_features = dataframe.shape\n",
        "\n",
        "\n",
        "#[row,cols] column start with index 2 to end\n",
        "X = dataframe.iloc[:,1:].astype(float)\n",
        "y = label_encoded\n",
        "\n",
        "#Apply StandardScaler\n",
        "scaler = StandardScaler()\n",
        "resacle_X = scaler.fit_transform(X)\n",
        "\n",
        "\n",
        "\n",
        "#Split the data in 70:10:20 ratio , for validation 10/80 =0.125\n",
        "#first take rescale features and save in test set then take the remider for train and val\n",
        "X_train, X_test, y_train, y_test = train_test_split(resacle_X, y, test_size=0.2, random_state=1, stratify=y)\n",
        "X_train, X_val, y_train, y_val = train_test_split(X_train, y_train, test_size=0.125, random_state=1, stratify=y_train)\n",
        "\n",
        "#statistics for splits\n",
        "print(f\"Training data size: X = {len(X_train)} , y= {len(y_train)}  \" )\n",
        "print(f\"Testing data size: X = {len(X_test)} , y= {len(y_test)}  \" )\n",
        "print(f\" Validation data size: X = {len(X_val)} , y= {len(y_val)}  \" )\n"
      ]
    },
    {
      "cell_type": "markdown",
      "id": "e9eb45a4",
      "metadata": {
        "id": "e9eb45a4"
      },
      "source": [
        "### 4- Build the model & Evaluation"
      ]
    },
    {
      "cell_type": "code",
      "execution_count": 6,
      "id": "c70491cc",
      "metadata": {
        "colab": {
          "base_uri": "https://localhost:8080/"
        },
        "id": "c70491cc",
        "outputId": "9b1baaaa-5a5e-44a5-d0ea-eda0cbe700d0"
      },
      "outputs": [
        {
          "output_type": "stream",
          "name": "stdout",
          "text": [
            " Evaluation metrics of Logistic Regression model \n",
            "Accuracy: 0.982\n",
            "Precision: 0.976\n",
            "Recall: 0.976\n",
            "F-score : 0.976\n",
            "\n"
          ]
        }
      ],
      "source": [
        "#Buliding Logistic Regression model\n",
        "\n",
        "Logistic_Regression_model = LogisticRegression(random_state=1)\n",
        "y_pred = Logistic_Regression_model.fit(X_train, y_train).predict(X_test)\n",
        "\n",
        "#Evaluation metrices\n",
        "print (\" Evaluation metrics of Logistic Regression model \")\n",
        "print (f\"Accuracy: {accuracy_score(y_test, y_pred):.3f}\")\n",
        "print (f\"Precision: {precision_score(y_test, y_pred):.3f}\")\n",
        "print (f\"Recall: {recall_score(y_test, y_pred):.3f}\")\n",
        "print (f\"F-score : {f1_score(y_test, y_pred):.3f}\\n\")"
      ]
    },
    {
      "cell_type": "code",
      "execution_count": null,
      "id": "95a8a33b",
      "metadata": {
        "id": "95a8a33b"
      },
      "outputs": [],
      "source": []
    }
  ],
  "metadata": {
    "kernelspec": {
      "display_name": "Python 3 (ipykernel)",
      "language": "python",
      "name": "python3"
    },
    "language_info": {
      "codemirror_mode": {
        "name": "ipython",
        "version": 3
      },
      "file_extension": ".py",
      "mimetype": "text/x-python",
      "name": "python",
      "nbconvert_exporter": "python",
      "pygments_lexer": "ipython3",
      "version": "3.9.19"
    },
    "colab": {
      "provenance": []
    }
  },
  "nbformat": 4,
  "nbformat_minor": 5
}